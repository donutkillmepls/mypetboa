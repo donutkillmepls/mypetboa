{
 "cells": [
  {
   "cell_type": "markdown",
   "metadata": {},
   "source": [
    "### The questions for the exercises are given above the cells and the expected output is given below the cell. Please type the code inserting a new cell below the question because if you run the expected output cell the output would vanish! Happy learning! "
   ]
  },
  {
   "cell_type": "markdown",
   "metadata": {},
   "source": [
    "## 1. Write a Python program to find those numbers which are divisible by 7 and multiple of 5, between 1500 and 2700 (both included). "
   ]
  },
  {
   "cell_type": "code",
   "execution_count": 9,
   "metadata": {},
   "outputs": [
    {
     "name": "stdout",
     "output_type": "stream",
     "text": [
      "1505 \t\n",
      "1540 \t\n",
      "1575 \t\n",
      "1610 \t\n",
      "1645 \t\n",
      "1680 \t\n",
      "1715 \t\n",
      "1750 \t\n",
      "1785 \t\n",
      "1820 \t\n",
      "1855 \t\n",
      "1890 \t\n",
      "1925 \t\n",
      "1960 \t\n",
      "1995 \t\n",
      "2030 \t\n",
      "2065 \t\n",
      "2100 \t\n",
      "2135 \t\n",
      "2170 \t\n",
      "2205 \t\n",
      "2240 \t\n",
      "2275 \t\n",
      "2310 \t\n",
      "2345 \t\n",
      "2380 \t\n",
      "2415 \t\n",
      "2450 \t\n",
      "2485 \t\n",
      "2520 \t\n",
      "2555 \t\n",
      "2590 \t\n",
      "2625 \t\n",
      "2660 \t\n",
      "2695 \t\n"
     ]
    }
   ],
   "source": [
    "a=1500\n",
    "while (a<=2700):\n",
    "    if(a%7==0):\n",
    "        print (a ,\"\\t\")\n",
    "    a=a+5\n",
    "    "
   ]
  },
  {
   "cell_type": "code",
   "execution_count": null,
   "metadata": {},
   "outputs": [],
   "source": []
  },
  {
   "cell_type": "markdown",
   "metadata": {},
   "source": [
    "## 2. Write a Python program to construct the following pattern, using a nested for loop.\n"
   ]
  },
  {
   "cell_type": "code",
   "execution_count": 3,
   "metadata": {},
   "outputs": [
    {
     "name": "stdout",
     "output_type": "stream",
     "text": [
      "\n",
      "* \n",
      "* * \n",
      "* * * \n",
      "* * * * \n",
      "* * * * * \n",
      "* * * * \n",
      "* * * \n",
      "* * \n",
      "* \n"
     ]
    }
   ],
   "source": []
  },
  {
   "cell_type": "code",
   "execution_count": 21,
   "metadata": {},
   "outputs": [
    {
     "name": "stdout",
     "output_type": "stream",
     "text": [
      "* \t\n",
      "* * \t\n",
      "* * * \t\n",
      "* * * * \t\n",
      "* * * * * \t\n",
      "* * * * \t\n",
      "* * * \t\n",
      "* * \t\n",
      "* \t\n",
      "\t\n"
     ]
    }
   ],
   "source": [
    "for i in range(1,6):\n",
    "    for j in range(1,i+1):\n",
    "        print(\"*\",end=\" \")\n",
    "    print(\"\\t\")\n",
    "for i in range(1,6):\n",
    "    for j in range(1,6-i):\n",
    "        print(\"*\",end = \" \")\n",
    "    print(\"\\t\")\n",
    "    \n"
   ]
  },
  {
   "cell_type": "code",
   "execution_count": null,
   "metadata": {},
   "outputs": [],
   "source": []
  },
  {
   "cell_type": "markdown",
   "metadata": {},
   "source": [
    "## 3. Write a Python program to count the number of even and odd numbers from a series of numbers."
   ]
  },
  {
   "cell_type": "code",
   "execution_count": 4,
   "metadata": {},
   "outputs": [
    {
     "name": "stdout",
     "output_type": "stream",
     "text": [
      "Number of even numbers : 4\n",
      "Number of odd numbers : 5\n"
     ]
    }
   ],
   "source": []
  },
  {
   "cell_type": "code",
   "execution_count": 29,
   "metadata": {},
   "outputs": [
    {
     "name": "stdout",
     "output_type": "stream",
     "text": [
      "No. of even numers= 4\n",
      "No. of odd numbers= 5\n"
     ]
    }
   ],
   "source": [
    "samp=[3,4,5,6,7,8,9,10,11]\n",
    "even=odd=0\n",
    "for i in samp:\n",
    "    if(i%2==0):\n",
    "        even=even+1\n",
    "    else:\n",
    "        odd=odd+1\n",
    "print(\"No. of even numers=\",even)\n",
    "print(\"No. of odd numbers=\",odd)"
   ]
  },
  {
   "cell_type": "markdown",
   "metadata": {},
   "source": [
    "## 4. Write a Python program to find numbers between 100 and 400 (both included) where each digit of a number is an even number. The numbers obtained should be printed in a comma-separated sequence."
   ]
  },
  {
   "cell_type": "code",
   "execution_count": 5,
   "metadata": {},
   "outputs": [
    {
     "name": "stdout",
     "output_type": "stream",
     "text": [
      "200,202,204,206,208,220,222,224,226,228,240,242,244,246,248,260,262,264,266,268,280,282,284,286,288,400\n"
     ]
    }
   ],
   "source": []
  },
  {
   "cell_type": "code",
   "execution_count": 26,
   "metadata": {},
   "outputs": [
    {
     "name": "stdout",
     "output_type": "stream",
     "text": [
      "200 202 204 206 208 220 222 224 226 228 240 242 244 246 248 260 262 264 266 268 280 282 284 286 288 400 "
     ]
    }
   ],
   "source": [
    "i=100\n",
    "for i in range(100,401):\n",
    "    a=int(i/100)\n",
    "    if a%2==0:\n",
    "        b=int((i%100)/10)\n",
    "        if(b%2==0) or (b==0):\n",
    "            c=(i%10)\n",
    "           \n",
    "            if (c%2==0):\n",
    "                print(100*a+10*b+c, end=\" \")\n"
   ]
  },
  {
   "cell_type": "code",
   "execution_count": 9,
   "metadata": {},
   "outputs": [
    {
     "name": "stdout",
     "output_type": "stream",
     "text": [
      "2.02\n"
     ]
    }
   ],
   "source": [
    "i=202\n",
    "a=i/100 \n",
    "print(a)    \n"
   ]
  },
  {
   "cell_type": "markdown",
   "metadata": {},
   "source": [
    "## 5. Write a Python program to calculate a dog's age in dog's years. Go to the editor\n",
    "Note: For the first two years, a dog year is equal to 10.5 human years. After that, each dog year equals 4 human years."
   ]
  },
  {
   "cell_type": "code",
   "execution_count": 7,
   "metadata": {},
   "outputs": [
    {
     "name": "stdout",
     "output_type": "stream",
     "text": [
      "Input a dog's age in human years: 20\n",
      "The dog's age in dog's years is 93\n"
     ]
    }
   ],
   "source": []
  },
  {
   "cell_type": "code",
   "execution_count": 29,
   "metadata": {},
   "outputs": [
    {
     "name": "stdout",
     "output_type": "stream",
     "text": [
      "Enter age in human years1\n",
      "Age in dog years is: 10.5\n"
     ]
    }
   ],
   "source": [
    "age=int(input(\"Enter age in human years\"))\n",
    "if age>2:\n",
    "    dage=float(21+(age-2)*4)\n",
    "else:\n",
    "    dage=age*10.5\n",
    "print(\"Age in dog years is:\",dage)"
   ]
  },
  {
   "cell_type": "markdown",
   "metadata": {},
   "source": [
    "## 6. Write a Python function to find the Max of three numbers."
   ]
  },
  {
   "cell_type": "code",
   "execution_count": 9,
   "metadata": {},
   "outputs": [
    {
     "name": "stdout",
     "output_type": "stream",
     "text": [
      "The Three numbers are: (3, 6, -5)\n",
      "6\n"
     ]
    }
   ],
   "source": []
  },
  {
   "cell_type": "code",
   "execution_count": 4,
   "metadata": {},
   "outputs": [
    {
     "name": "stdout",
     "output_type": "stream",
     "text": [
      "no1 4\n",
      "no2 6\n",
      "no3 5\n",
      "The three numbers are 4 6 5\n",
      "6\n"
     ]
    }
   ],
   "source": [
    "a=input(\"no1 \")\n",
    "b=input(\"no2 \")\n",
    "c=input(\"no3 \")\n",
    "if a>b:\n",
    "    max=a\n",
    "else:\n",
    "    max=b\n",
    "if(c>max):\n",
    "    max=c\n",
    "print(\"The three numbers are\",a,b,c)\n",
    "print(max)"
   ]
  },
  {
   "cell_type": "markdown",
   "metadata": {},
   "source": [
    "## 7. Write a Python function that takes a number as a parameter and check the number is prime or not."
   ]
  },
  {
   "cell_type": "code",
   "execution_count": 11,
   "metadata": {},
   "outputs": [
    {
     "name": "stdout",
     "output_type": "stream",
     "text": [
      "The number is: 9\n",
      "False\n"
     ]
    }
   ],
   "source": []
  },
  {
   "cell_type": "code",
   "execution_count": 6,
   "metadata": {},
   "outputs": [
    {
     "name": "stdout",
     "output_type": "stream",
     "text": [
      "Not prime\n"
     ]
    }
   ],
   "source": [
    "def ifprime(a):\n",
    "    check=0\n",
    "    f=int(a/2)\n",
    "    for i in range(2,f):\n",
    "        if(a%i==0):\n",
    "            print(\"Not prime\")\n",
    "            return\n",
    "    print(\"Prime\")\n",
    "    return\n",
    "ifprime(14)\n",
    "\n",
    "        \n",
    "            "
   ]
  },
  {
   "cell_type": "markdown",
   "metadata": {},
   "source": [
    "## 8. Write a Python function that accepts a string and calculate the number of upper case letters and lower case letters. Go to the editor\n"
   ]
  },
  {
   "cell_type": "code",
   "execution_count": 9,
   "metadata": {},
   "outputs": [
    {
     "name": "stdout",
     "output_type": "stream",
     "text": [
      "Lower case =  19\n",
      "Upper case =  3\n"
     ]
    }
   ],
   "source": [
    "def calc(a):\n",
    "    lower=0\n",
    "    upper=0\n",
    "    for i in a:\n",
    "        if i.isupper():\n",
    "            upper+=1\n",
    "        elif i.islower():\n",
    "            lower+=1\n",
    "        else:\n",
    "            pass\n",
    "        \n",
    "    print (\"Lower case = \",lower)\n",
    "    print(\"Upper case = \",upper)\n",
    "    \n",
    "calc(\"My name is dogewgipiegjHI\")\n",
    "        \n",
    "        \n",
    "    "
   ]
  },
  {
   "cell_type": "markdown",
   "metadata": {},
   "source": [
    "## 9. Write a Python program to reverse a string. "
   ]
  },
  {
   "cell_type": "code",
   "execution_count": 13,
   "metadata": {},
   "outputs": [
    {
     "name": "stdout",
     "output_type": "stream",
     "text": [
      "Enter a string qwerrttyuuii\n",
      "iiuuyttrrewq\n"
     ]
    }
   ],
   "source": [
    "a=input(\"Enter a string \")\n",
    "b=a[::-1]\n",
    "print(b)"
   ]
  },
  {
   "cell_type": "markdown",
   "metadata": {},
   "source": [
    "## 10. Write a Python program to find  the greatest common divisor (gcd) of two integers."
   ]
  },
  {
   "cell_type": "code",
   "execution_count": 18,
   "metadata": {},
   "outputs": [
    {
     "name": "stdout",
     "output_type": "stream",
     "text": [
      "The two numbers are: (12, 14)\n",
      "The GCD of the numbers are: 2\n"
     ]
    }
   ],
   "source": []
  },
  {
   "cell_type": "code",
   "execution_count": 15,
   "metadata": {},
   "outputs": [
    {
     "name": "stdout",
     "output_type": "stream",
     "text": [
      "The two numbers are: (12, 14)\n",
      "The GCD of the numbers are: 12\n"
     ]
    }
   ],
   "source": [
    "def hcf(x, y):\n",
    "    print(\"The two numbers are:\",(x,y))\n",
    "    hcf = 1\n",
    "    \n",
    "    if x % y == 0:\n",
    "        return y\n",
    "    \n",
    "    for i in range(int(y / 2), 0, -1):\n",
    "        if x % i == 0 and y % i == 0:\n",
    "            hcf = x\n",
    "            break  \n",
    "    return hcf\n",
    "\n",
    "print(\"The GCD of the numbers are:\",hcf(12, 14))"
   ]
  },
  {
   "cell_type": "code",
   "execution_count": null,
   "metadata": {},
   "outputs": [],
   "source": []
  }
 ],
 "metadata": {
  "kernelspec": {
   "display_name": "Python 3",
   "language": "python",
   "name": "python3"
  },
  "language_info": {
   "codemirror_mode": {
    "name": "ipython",
    "version": 3
   },
   "file_extension": ".py",
   "mimetype": "text/x-python",
   "name": "python",
   "nbconvert_exporter": "python",
   "pygments_lexer": "ipython3",
   "version": "3.7.6"
  }
 },
 "nbformat": 4,
 "nbformat_minor": 4
}
